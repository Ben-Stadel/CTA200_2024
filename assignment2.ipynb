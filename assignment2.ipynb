{
 "cells": [
  {
   "cell_type": "code",
   "execution_count": 35,
   "metadata": {},
   "outputs": [],
   "source": [
    "# import numpy module for absolute values\n",
    "import numpy as np"
   ]
  },
  {
   "cell_type": "code",
   "execution_count": 43,
   "metadata": {},
   "outputs": [
    {
     "name": "stdout",
     "output_type": "stream",
     "text": [
      "Found root in 29 iterations\n",
      "Found root in 9 iterations\n",
      "Found root in 13 iterations\n",
      "Found root in 30 iterations\n",
      "Iteration failed\n",
      "The found roots: 1.4655712320955052 1.465571232470246 1.4655712329289012 1.4655712341031628 None\n"
     ]
    }
   ],
   "source": [
    "def f(x):\n",
    "    '''Function to be used later'''\n",
    "    return x**3-x**2-1\n",
    "\n",
    "def df(x):\n",
    "    '''Analytical Derivative of function'''\n",
    "    return 3*x**2-2*x\n",
    "\n",
    "def newton(func, dfunc, x0, eps=1e-6, max_iter=30):\n",
    "    '''Function to perform the Newton Iteration of a function called func, using its derivative dfunc, and a starting point x0, \n",
    "    eps is the tolerance around 0 of the function and max_iter is the allowed iterations'''\n",
    "    x_n=x0 # set initial x_n\n",
    "    n=0 # number of iterations complete\n",
    "    while np.abs(func(x_n))>= eps and n<=max_iter:\n",
    "        # Run through iterations while f(x_n) is outside the tolerance and the number of iterations are below the limit\n",
    "        x_n=x_n-func(x_n)/dfunc(x_n)\n",
    "        n=n+1\n",
    "    if np.abs(func(x_n))<= eps and n<=max_iter:\n",
    "        # If f(x_n) is below the tolerance end the loop and return x_n\n",
    "        print(\"Found root in \"+str(n)+\" iterations\")\n",
    "        return x_n\n",
    "    else:\n",
    "        # If f(x_n) isn't below the tolerance return that the iteration failed\n",
    "        print(\"Iteration failed\")\n",
    "        return\n",
    "\n",
    "# Various attempts through the algorithm with different starting points\n",
    "root1=newton(f, df, 0.05)\n",
    "root2=newton(f,df,10)\n",
    "root3=newton(f,df,50)\n",
    "root4=newton(f,df,50000)\n",
    "root5=newton(f,df,100000)\n",
    "print(\"The found roots:\", root1, root2, root3, root4, root5)\n"
   ]
  },
  {
   "cell_type": "code",
   "execution_count": 45,
   "metadata": {},
   "outputs": [
    {
     "name": "stdout",
     "output_type": "stream",
     "text": [
      "Found root in 29 iterations\n",
      "1.4655712320955052\n",
      "The process still works with the smaller epsilon, with the same amount of iterations\n"
     ]
    }
   ],
   "source": [
    "#Another attempt with a different epsilon\n",
    "newroot=newton(f,df,0.05,eps=1e-8)\n",
    "print(newroot)\n",
    "print(\"The process still works with the smaller epsilon, with the same amount of iterations\")"
   ]
  }
 ],
 "metadata": {
  "kernelspec": {
   "display_name": "base",
   "language": "python",
   "name": "python3"
  },
  "language_info": {
   "codemirror_mode": {
    "name": "ipython",
    "version": 3
   },
   "file_extension": ".py",
   "mimetype": "text/x-python",
   "name": "python",
   "nbconvert_exporter": "python",
   "pygments_lexer": "ipython3",
   "version": "3.8.8"
  },
  "orig_nbformat": 4
 },
 "nbformat": 4,
 "nbformat_minor": 2
}
